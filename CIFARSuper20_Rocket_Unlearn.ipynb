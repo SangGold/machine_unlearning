{
 "cells": [
  {
   "cell_type": "code",
   "execution_count": 1,
   "metadata": {},
   "outputs": [],
   "source": [
    "import warnings\n",
    "warnings.filterwarnings('ignore')\n",
    "\n",
    "import torch\n",
    "from dataset import *\n",
    "from model import ResNet18\n",
    "from unlearn import *\n",
    "from metrics import UnLearningScore\n",
    "from utils import *\n",
    "from torch.utils.data import DataLoader, Dataset, random_split, Subset\n",
    "from torchvision.models import resnet18\n",
    "from torchvision.datasets import CIFAR100\n",
    "from torch.nn import functional as F\n",
    "from torch.nn.functional import softmax, log_softmax, kl_div\n",
    "from sklearn.model_selection import train_test_split"
   ]
  },
  {
   "cell_type": "code",
   "execution_count": 2,
   "id": "0d160243",
   "metadata": {},
   "outputs": [],
   "source": [
    "num_workers = 8\n",
    "batch_size = 64"
   ]
  },
  {
   "cell_type": "code",
   "execution_count": 189,
   "id": "b36b88c8",
   "metadata": {},
   "outputs": [
    {
     "name": "stdout",
     "output_type": "stream",
     "text": [
      "Downloading https://www.cs.toronto.edu/~kriz/cifar-100-python.tar.gz to ./cifar-100-python.tar.gz\n"
     ]
    },
    {
     "name": "stderr",
     "output_type": "stream",
     "text": [
      "100%|██████████| 169001437/169001437 [00:18<00:00, 9337098.35it/s] \n"
     ]
    },
    {
     "name": "stdout",
     "output_type": "stream",
     "text": [
      "Extracting ./cifar-100-python.tar.gz to .\n",
      "Files already downloaded and verified\n"
     ]
    }
   ],
   "source": [
    "transform_custom = transforms.Compose([\n",
    "    transforms.ToTensor(),\n",
    "    transforms.Lambda(lambda x: (x * 255.).to(torch.float32)),\n",
    "])\n",
    "class CustomCIFAR100(Dataset):\n",
    "    def __init__(self, root, train, download, transform):\n",
    "        self.dataset = CIFAR100(root=root, train=train, download=download, transform=transform)\n",
    "        self.coarse_map = {\n",
    "            0:[4, 30, 55, 72, 95],\n",
    "            1:[1, 32, 67, 73, 91],\n",
    "            2:[54, 62, 70, 82, 92],\n",
    "            3:[9, 10, 16, 28, 61],\n",
    "            4:[0, 51, 53, 57, 83],\n",
    "            5:[22, 39, 40, 86, 87],\n",
    "            6:[5, 20, 25, 84, 94],\n",
    "            7:[6, 7, 14, 18, 24],\n",
    "            8:[3, 42, 43, 88, 97],\n",
    "            9:[12, 17, 37, 68, 76]\n",
    "        }\n",
    "        self.indices = [i for i, (_, target) in enumerate(self.dataset) if target in sum(self.coarse_map.values(), [])]\n",
    "        \n",
    "    def __getitem__(self, index):\n",
    "        img, label = self.dataset[self.indices[index]]\n",
    "        for clabel, labels in self.coarse_map.items():\n",
    "            if label in labels:\n",
    "                return img, label, clabel\n",
    "\n",
    "    def __len__(self):\n",
    "        return len(self.indices)\n",
    "\n",
    "# Usage\n",
    "train_ds = CustomCIFAR100(root='.', train=True, download=True, transform=transform_custom)\n",
    "# train_dl = DataLoader(train_ds, batch_size=batch_size, shuffle=True, num_workers=num_workers)\n",
    "\n",
    "test_ds = CustomCIFAR100(root='.', train=False, download=True, transform=transform_custom)\n",
    "# test_dl = DataLoader(test_ds, batch_size=batch_size, shuffle=False, num_workers=num_workers)"
   ]
  },
  {
   "cell_type": "code",
   "execution_count": 4,
   "metadata": {},
   "outputs": [],
   "source": [
    "forget_classes = [86]\n",
    "sub_classes = [4, 30,               # 55, 72, 95,\n",
    "              1,                    # 32, 67, 73, 91,\n",
    "              54, 62,               # 70, 82, 92,\n",
    "              9, 10,                # 16, 28, 61,\n",
    "              0,                    # 51, 53, 57, 83,\n",
    "              22, 39, 40, 86, 87,\n",
    "              5, 20,                # 25, 84, 94,\n",
    "              6,                    # 7, 14, 18, 24,\n",
    "              3, 42,                # 43, 88, 97,\n",
    "              12, 17,               # 37, 68, 76\n",
    "              ]\n",
    "# train\n",
    "classwise_train = {}\n",
    "for i in sub_classes:\n",
    "    classwise_train[i] = []\n",
    "for img, label, clabel in train_ds:\n",
    "    if label in sub_classes:\n",
    "        classwise_train[label].append((img, label, clabel))\n",
    "\n",
    "# get retain_train set\n",
    "retain_train = []\n",
    "for cls in sub_classes:\n",
    "    if cls not in forget_classes:\n",
    "        retain_train += classwise_train[cls]\n",
    "\n",
    "# get forget_train set\n",
    "forget_train = []\n",
    "forget_train += classwise_train[forget_classes[0]]\n",
    "\n",
    "full_train_ds = retain_train + forget_train\n",
    "\n",
    "# get test set (contain both retain and forget)\n",
    "test_set = []\n",
    "for img, label, clabel in test_ds:\n",
    "    if label in sub_classes:\n",
    "        test_set.append((img, label, clabel))"
   ]
  },
  {
   "cell_type": "code",
   "execution_count": 5,
   "metadata": {},
   "outputs": [],
   "source": [
    "class_weights = [2., 1., 2., 2., 1., 5., 2., 1., 2., 2.]\n",
    "class_weights_sample = [i*500 for i in class_weights]\n",
    "class_weights_inv = [sum(class_weights) / (len(class_weights) * i) for i in class_weights]"
   ]
  },
  {
   "cell_type": "code",
   "execution_count": 6,
   "metadata": {},
   "outputs": [
    {
     "name": "stdout",
     "output_type": "stream",
     "text": [
      "9500 500 2000 10000\n"
     ]
    }
   ],
   "source": [
    "print(len(retain_train), len(forget_train), len(test_set), len(full_train_ds))"
   ]
  },
  {
   "cell_type": "code",
   "execution_count": 7,
   "metadata": {},
   "outputs": [],
   "source": [
    "retain_train_dl = DataLoader(retain_train, batch_size=64, shuffle=True)\n",
    "forget_train_dl = DataLoader(forget_train, batch_size=64, shuffle=True)\n",
    "full_train_dl = DataLoader(full_train_ds, batch_size=64, shuffle=True)\n",
    "test_set_dl = DataLoader(test_set, batch_size=64, shuffle=False)"
   ]
  },
  {
   "cell_type": "code",
   "execution_count": 8,
   "metadata": {},
   "outputs": [],
   "source": [
    "class UnLearningData(Dataset):\n",
    "    def __init__(self, forget_data, retain_data):\n",
    "        super().__init__()\n",
    "        self.forget_data = forget_data\n",
    "        self.retain_data = retain_data\n",
    "        self.forget_len = len(forget_data)\n",
    "        self.retain_len = len(retain_data)\n",
    "\n",
    "    def __len__(self):\n",
    "        return self.retain_len + self.forget_len\n",
    "    \n",
    "    def __getitem__(self, index):\n",
    "        if(index < self.forget_len):\n",
    "            x = self.forget_data[index][0]\n",
    "            hard_label = self.forget_data[index][2]\n",
    "            y = 1\n",
    "        else:\n",
    "            x = self.retain_data[index - self.forget_len][0]\n",
    "            hard_label = self.retain_data[index - self.forget_len][2]\n",
    "            y = 0\n",
    "        return x, hard_label, y"
   ]
  },
  {
   "cell_type": "code",
   "execution_count": 9,
   "metadata": {},
   "outputs": [],
   "source": [
    "def get_dataset(retain_train_ds=retain_train, forget_train_ds=forget_train, batch_size=64, subset_ratio=0.3):\n",
    "    \n",
    "    hard_label = [item[2] for item in retain_train_ds]\n",
    "    _, subset_idx = train_test_split(np.arange(len(hard_label)), \n",
    "                                    test_size=subset_ratio, stratify=hard_label)\n",
    "\n",
    "    subset_retain_ds = Subset(retain_train_ds, list(subset_idx))\n",
    "    \n",
    "    retrain_data = UnLearningData(forget_data=[], retain_data=retain_train_ds)\n",
    "    retrain_data_dl = DataLoader(retrain_data, batch_size=batch_size, shuffle=True)\n",
    "    \n",
    "    unlearning_data = UnLearningData(forget_data=forget_train_ds, retain_data=subset_retain_ds)\n",
    "    unlearning_data_dl = DataLoader(unlearning_data, batch_size=batch_size, shuffle=True)\n",
    "    return unlearning_data_dl, retrain_data_dl"
   ]
  },
  {
   "cell_type": "markdown",
   "id": "d9141b85",
   "metadata": {},
   "source": [
    "# Forgetting class 68: Road\n",
    "The Road is class 68 in CIFAR100 and belongs to Super Class 9 (large_man-made_outdoor_things) in CIFAR Super 20."
   ]
  },
  {
   "cell_type": "markdown",
   "metadata": {},
   "source": [
    "## UnLearning via proposed method"
   ]
  },
  {
   "cell_type": "markdown",
   "metadata": {},
   "source": [
    "### Define unlearn loss and unlearning method"
   ]
  },
  {
   "cell_type": "code",
   "execution_count": 10,
   "metadata": {},
   "outputs": [],
   "source": [
    "device = 'cuda'"
   ]
  },
  {
   "cell_type": "code",
   "execution_count": 143,
   "metadata": {},
   "outputs": [],
   "source": [
    "def unlearn_loss(student_logits, label, smart_teacher_logits, dumb_teacher_logits, KL_temperature):\n",
    "    label = torch.unsqueeze(label, dim = 1)\n",
    "    \n",
    "    s_teacher_out = softmax(smart_teacher_logits / KL_temperature, dim=1)\n",
    "    d_teacher_out = softmax(dumb_teacher_logits / KL_temperature, dim=1)\n",
    "\n",
    "    # label 1 means forget sample\n",
    "    # label 0 means retain sample\n",
    "    overall_teacher_out = label * d_teacher_out + (1 - label) * s_teacher_out\n",
    "    student_out = log_softmax(student_logits / KL_temperature, dim=1)\n",
    "    return kl_div(student_out, overall_teacher_out)\n",
    "\n",
    "\n",
    "def unlearning_func(student_model, smart_teacher, dumb_teacher, \n",
    "                    unlearning_data_dl,\n",
    "                    epochs, learning_rate, KL_temperature=1,\n",
    "                    optim='adam',\n",
    "                    DEVICE=device):\n",
    "    if optim == 'adam':\n",
    "        optimizer = torch.optim.Adam(student_model.parameters(), lr = learning_rate)\n",
    "    else:\n",
    "        optimizer = torch.optim.SGD(student_model.parameters(), lr=learning_rate, \n",
    "                                    momentum=0.9, weight_decay=5e-4)\n",
    "    student_model.train()\n",
    "    for _ in range(epochs):\n",
    "        student_model.train()\n",
    "        for x, _, y in unlearning_data_dl:\n",
    "            x, y = x.to(DEVICE), y.to(DEVICE)\n",
    "            with torch.no_grad():\n",
    "                smart_teacher_logits = smart_teacher(x)\n",
    "                dumb_teacher_logits = dumb_teacher(x)\n",
    "            student_logits = student_model(x)\n",
    "            optimizer.zero_grad()\n",
    "            loss = unlearn_loss(student_logits=student_logits, label=y,\n",
    "                                smart_teacher_logits=smart_teacher_logits,\n",
    "                                dumb_teacher_logits=dumb_teacher_logits,\n",
    "                                KL_temperature=KL_temperature)\n",
    "            loss.backward()\n",
    "            optimizer.step()\n",
    "    student_model.eval()\n",
    "    return student_model"
   ]
  },
  {
   "cell_type": "markdown",
   "metadata": {},
   "source": [
    "### Retrain model from scratch"
   ]
  },
  {
   "cell_type": "code",
   "execution_count": 175,
   "metadata": {},
   "outputs": [],
   "source": [
    "def retrain_from_scratch(retrain_data_dl, epochs, class_weights, learning_rate, optim):\n",
    "    dumb_teacher = resnet18(weights=None, num_classes=10).to(device)\n",
    "    # using age_class_weights.json\n",
    "    if class_weights != None:\n",
    "        class_weights = torch.tensor(class_weights)\n",
    "        class_weights = class_weights.to(device)\n",
    "    criterion = nn.CrossEntropyLoss(weight=class_weights, reduction='mean')\n",
    "    if optim == 'adam':\n",
    "        optimizer = torch.optim.Adam(dumb_teacher.parameters(), lr=learning_rate)\n",
    "    else:\n",
    "        optimizer = torch.optim.SGD(dumb_teacher.parameters(), lr=learning_rate, \n",
    "                                    momentum=0.9, weight_decay=5e-4)\n",
    "    dumb_teacher.train()\n",
    "    for _ in range(epochs):\n",
    "        dumb_teacher.train()\n",
    "        for x, hard_label, y in retrain_data_dl:\n",
    "            x, hard_label = x.to(device), hard_label.to(device)\n",
    "            optimizer.zero_grad()\n",
    "            output = dumb_teacher(x)\n",
    "            loss = criterion(output, hard_label)\n",
    "            loss.backward()\n",
    "            optimizer.step()\n",
    "    dumb_teacher.eval()\n",
    "    return dumb_teacher"
   ]
  },
  {
   "cell_type": "markdown",
   "metadata": {},
   "source": [
    "### Train original model and gold  (This block code has done. Do not need to run again!)"
   ]
  },
  {
   "cell_type": "code",
   "execution_count": 23,
   "metadata": {},
   "outputs": [
    {
     "name": "stdout",
     "output_type": "stream",
     "text": [
      "Epoch [0], last_lr: 0.00010, train_loss: 1.1605, val_loss: 0.7260, val_acc: 74.3652\n",
      "Epoch [1], last_lr: 0.00010, train_loss: 0.5621, val_loss: 0.6538, val_acc: 77.8320\n",
      "Epoch [2], last_lr: 0.00010, train_loss: 0.3317, val_loss: 0.6340, val_acc: 78.6621\n",
      "Epoch [3], last_lr: 0.00010, train_loss: 0.2082, val_loss: 0.6749, val_acc: 79.2969\n",
      "Epoch [4], last_lr: 0.00010, train_loss: 0.1455, val_loss: 0.6800, val_acc: 80.1758\n",
      "{'Loss': 0.0204707533121109, 'Acc': 99.36898803710938} \n",
      " {'Loss': 0.03597160428762436, 'Acc': 99.31837463378906} \n",
      " {'Loss': 0.6800447702407837, 'Acc': 80.17578125}\n"
     ]
    }
   ],
   "source": [
    "# train the Original_Model\n",
    "original_model = ResNet18(num_classes = 10, pretrained = True).to(device)\n",
    "# original_model.load_state_dict(torch.load('Original_Model_trained_10_classes.pt'))\n",
    "history = fit_one_cycle(epochs=5, model=original_model, train_loader=full_train_dl, val_loader=test_set_dl,\n",
    "                        pretrained_lr=1e-4, finetune_lr=1e-4, device='cuda')\n",
    "print(evaluate(original_model, forget_train_dl, device='cuda'), '\\n', \n",
    "      evaluate(original_model, retain_train_dl, device='cuda'), '\\n',\n",
    "      evaluate(original_model, test_set_dl, device='cuda'))"
   ]
  },
  {
   "cell_type": "code",
   "execution_count": 24,
   "metadata": {},
   "outputs": [
    {
     "name": "stdout",
     "output_type": "stream",
     "text": [
      "Epoch [0], last_lr: 0.00010, train_loss: 1.2287, val_loss: 0.7613, val_acc: 73.7793\n",
      "Epoch [1], last_lr: 0.00010, train_loss: 0.5805, val_loss: 0.6285, val_acc: 78.1250\n",
      "Epoch [2], last_lr: 0.00010, train_loss: 0.3414, val_loss: 0.6335, val_acc: 78.5645\n",
      "Epoch [3], last_lr: 0.00010, train_loss: 0.1996, val_loss: 0.6561, val_acc: 79.1016\n",
      "Epoch [4], last_lr: 0.00010, train_loss: 0.1412, val_loss: 0.6759, val_acc: 79.2480\n",
      "{'Loss': 0.5875015258789062, 'Acc': 83.14302825927734} \n",
      " {'Loss': 0.031898993998765945, 'Acc': 99.4651870727539} \n",
      " {'Loss': 0.6759098768234253, 'Acc': 79.248046875}\n"
     ]
    }
   ],
   "source": [
    "gold_model = ResNet18(num_classes = 10, pretrained = True).to(device)\n",
    "history = fit_one_cycle(epochs=5, model=gold_model, train_loader=retain_train_dl, val_loader=test_set_dl,\n",
    "                        pretrained_lr=1e-4, finetune_lr=1e-4, device='cuda')\n",
    "print(evaluate(gold_model, forget_train_dl, device='cuda'), '\\n', \n",
    "      evaluate(gold_model, retain_train_dl, device='cuda'), '\\n',\n",
    "      evaluate(gold_model, test_set_dl, device='cuda'))"
   ]
  },
  {
   "cell_type": "code",
   "execution_count": null,
   "metadata": {},
   "outputs": [],
   "source": [
    "original_model.eval(); gold_model.eval()"
   ]
  },
  {
   "cell_type": "code",
   "execution_count": 26,
   "metadata": {},
   "outputs": [],
   "source": [
    "torch.save(original_model.state_dict(), \"Original_Model.pt\")\n",
    "torch.save(gold_model.state_dict(), \"Gold_Model.pt\")"
   ]
  },
  {
   "cell_type": "markdown",
   "metadata": {},
   "source": [
    "### Metrics of Kaggle competitions"
   ]
  },
  {
   "cell_type": "code",
   "execution_count": 13,
   "metadata": {},
   "outputs": [],
   "source": [
    "from sklearn.metrics import make_scorer\n",
    "from sklearn import linear_model, model_selection\n",
    "from copy import deepcopy\n",
    "from typing import Callable\n",
    "from tqdm.notebook import tqdm"
   ]
  },
  {
   "cell_type": "code",
   "execution_count": 14,
   "metadata": {},
   "outputs": [],
   "source": [
    "def accuracy(net, loader):\n",
    "    \"\"\"Return accuracy on a dataset given by the data loader.\"\"\"\n",
    "    correct = 0\n",
    "    total = 0\n",
    "    for inputs, _, targets in loader:\n",
    "        inputs, targets = inputs.to(device), targets.to(device)\n",
    "        outputs = net(inputs)\n",
    "        _, predicted = outputs.max(1)\n",
    "        total += targets.size(0)\n",
    "        correct += predicted.eq(targets).sum().item()\n",
    "    return correct / total\n",
    "\n",
    "def compute_outputs(net, loader):\n",
    "    \"\"\"Auxiliary function to compute the logits for all datapoints.\n",
    "    Does not shuffle the data, regardless of the loader.\n",
    "    \"\"\"\n",
    "    # Make sure loader does not shuffle the data\n",
    "    if isinstance(loader.sampler, torch.utils.data.sampler.RandomSampler):\n",
    "        loader = DataLoader(\n",
    "            loader.dataset, \n",
    "            batch_size=loader.batch_size, \n",
    "            shuffle=False, \n",
    "            num_workers=loader.num_workers)\n",
    "    \n",
    "    all_outputs = []\n",
    "    for inputs, _, _ in loader:\n",
    "        inputs = inputs.to(device)\n",
    "        logits = net(inputs).detach().cpu().numpy() # (batch_size, num_classes)\n",
    "        all_outputs.append(logits)\n",
    "        \n",
    "    return np.concatenate(all_outputs) # (len(loader.dataset), num_classes)\n",
    "\n",
    "def false_positive_rate(y_true: np.ndarray, y_pred: np.ndarray) -> float:\n",
    "    \"\"\"Computes the false positive rate (FPR).\"\"\"\n",
    "    fp = np.sum(np.logical_and((y_pred == 1), (y_true == 0)))\n",
    "    n = np.sum(y_true == 0)\n",
    "    return fp / n\n",
    "\n",
    "def false_negative_rate(y_true: np.ndarray, y_pred: np.ndarray) -> float:\n",
    "    \"\"\"Computes the false negative rate (FNR).\"\"\"\n",
    "    fn = np.sum(np.logical_and((y_pred == 0), (y_true == 1)))\n",
    "    p = np.sum(y_true == 1)\n",
    "    return fn / p\n",
    "\n",
    "# The SCORING dictionary is used by sklearn's `cross_validate` function so that\n",
    "# we record the FPR and FNR metrics of interest when doing cross validation\n",
    "SCORING = {\n",
    "    'false_positive_rate': make_scorer(false_positive_rate),\n",
    "    'false_negative_rate': make_scorer(false_negative_rate)\n",
    "}"
   ]
  },
  {
   "cell_type": "code",
   "execution_count": 15,
   "metadata": {},
   "outputs": [],
   "source": [
    "def cross_entropy_f(x):\n",
    "    # To ensure this function doesn't fail due to nans, find all-nan rows in x and substitude them with all-zeros.\n",
    "    x[np.all(np.isnan(x), axis=-1)] = np.zeros(x.shape[-1])\n",
    "    pred = torch.tensor(np.nanargmax(x, axis = -1))\n",
    "    x = torch.tensor(x)\n",
    "    fn = nn.CrossEntropyLoss(reduction=\"none\")\n",
    "    return fn(x, pred).numpy()"
   ]
  },
  {
   "cell_type": "code",
   "execution_count": 16,
   "metadata": {},
   "outputs": [],
   "source": [
    "def logistic_regression_attack(\n",
    "        outputs_U, outputs_R, n_splits=2, random_state=0):\n",
    "    \"\"\"Computes cross-validation score of a membership inference attack.\n",
    "    Args:\n",
    "      outputs_U: numpy array of shape (N)\n",
    "      outputs_R: numpy array of shape (N)\n",
    "      n_splits: int\n",
    "        number of splits to use in the cross-validation.\n",
    "    Returns:\n",
    "      fpr, fnr : float * float\n",
    "    \"\"\"\n",
    "    assert len(outputs_U) == len(outputs_R)\n",
    "    \n",
    "    samples = np.concatenate((outputs_R, outputs_U)).reshape((-1, 1))\n",
    "    labels = np.array([0] * len(outputs_R) + [1] * len(outputs_U))\n",
    "\n",
    "    attack_model = linear_model.LogisticRegression()\n",
    "    cv = model_selection.StratifiedShuffleSplit(\n",
    "        n_splits=n_splits, random_state=random_state\n",
    "    )\n",
    "    scores =  model_selection.cross_validate(\n",
    "        attack_model, samples, labels, cv=cv, scoring=SCORING)\n",
    "    \n",
    "    fpr = np.mean(scores[\"test_false_positive_rate\"])\n",
    "    fnr = np.mean(scores[\"test_false_negative_rate\"])\n",
    "    \n",
    "    return fpr, fnr\n",
    "\n",
    "\n",
    "def best_threshold_attack(\n",
    "        outputs_U: np.ndarray, \n",
    "        outputs_R: np.ndarray, \n",
    "        random_state: int = 0\n",
    "    ) -> tuple[list[float], list[float]]:\n",
    "    \"\"\"Computes FPRs and FNRs for an attack that simply splits into \n",
    "    predicted positives and predited negatives based on any possible \n",
    "    single threshold.\n",
    "\n",
    "    Args:\n",
    "      outputs_U: numpy array of shape (N)\n",
    "      outputs_R: numpy array of shape (N)\n",
    "    Returns:\n",
    "      fpr, fnr : list[float] * list[float]\n",
    "    \"\"\"\n",
    "    assert len(outputs_U) == len(outputs_R)\n",
    "    \n",
    "    samples = np.concatenate((outputs_R, outputs_U))\n",
    "    labels = np.array([0] * len(outputs_R) + [1] * len(outputs_U))\n",
    "\n",
    "    N = len(outputs_U)\n",
    "    \n",
    "    fprs, fnrs = [], []\n",
    "    for thresh in sorted(list(samples.squeeze())):\n",
    "        ypred = (samples > thresh).astype(\"int\")\n",
    "        fprs.append(false_positive_rate(labels, ypred))\n",
    "        fnrs.append(false_negative_rate(labels, ypred))\n",
    "    \n",
    "    return fprs, fnrs"
   ]
  },
  {
   "cell_type": "code",
   "execution_count": 17,
   "metadata": {},
   "outputs": [],
   "source": [
    "def compute_epsilon_s(fpr: list[float], fnr: list[float], delta: float) -> float:\n",
    "    \"\"\"Computes the privacy degree (epsilon) of a particular forget set example, \n",
    "    given the FPRs and FNRs resulting from various attacks.\n",
    "    \n",
    "    The smaller epsilon is, the better the unlearning is.\n",
    "    \n",
    "    Args:\n",
    "      fpr: list[float] of length m = num attacks. The FPRs for a particular example. \n",
    "      fnr: list[float] of length m = num attacks. The FNRs for a particular example.\n",
    "      delta: float\n",
    "    Returns:\n",
    "      epsilon: float corresponding to the privacy degree of the particular example.\n",
    "    \"\"\"\n",
    "    assert len(fpr) == len(fnr)\n",
    "    \n",
    "    per_attack_epsilon = [0.]\n",
    "    for fpr_i, fnr_i in zip(fpr, fnr):\n",
    "        if fpr_i == 0 and fnr_i == 0:\n",
    "            per_attack_epsilon.append(np.inf)\n",
    "        elif fpr_i == 0 or fnr_i == 0:\n",
    "            pass # discard attack\n",
    "        else:\n",
    "            with np.errstate(invalid='ignore'):\n",
    "                epsilon1 = np.log(1. - delta - fpr_i) - np.log(fnr_i)\n",
    "                epsilon2 = np.log(1. - delta - fnr_i) - np.log(fpr_i)\n",
    "            if np.isnan(epsilon1) and np.isnan(epsilon2):\n",
    "                per_attack_epsilon.append(np.inf)\n",
    "            else:\n",
    "                per_attack_epsilon.append(np.nanmax([epsilon1, epsilon2]))\n",
    "            \n",
    "    return np.nanmax(per_attack_epsilon)\n",
    "\n",
    "\n",
    "def bin_index_fn(\n",
    "        epsilons: np.ndarray, \n",
    "        bin_width: float = 0.5, \n",
    "        B: int = 13\n",
    "        ) -> np.ndarray:\n",
    "    \"\"\"The bin index function.\"\"\"\n",
    "    bins = np.arange(0, B) * bin_width\n",
    "    return np.digitize(epsilons, bins)\n",
    "\n",
    "\n",
    "def F(epsilons: np.ndarray) -> float:\n",
    "    \"\"\"Computes the forgetting quality given the privacy degrees \n",
    "    of the forget set examples.\n",
    "    \"\"\"\n",
    "    ns = bin_index_fn(epsilons)\n",
    "    hs = 2. / 2 ** ns\n",
    "    return np.mean(hs)"
   ]
  },
  {
   "cell_type": "code",
   "execution_count": 18,
   "metadata": {},
   "outputs": [],
   "source": [
    "def forgetting_quality(\n",
    "        outputs_U: np.ndarray, # (N, S)\n",
    "        outputs_R: np.ndarray, # (N, S)\n",
    "        attacks: list[Callable] = [best_threshold_attack, logistic_regression_attack],\n",
    "        delta: float = 0.01\n",
    "    ):\n",
    "    \"\"\"\n",
    "    Both `outputs_U` and `outputs_R` are of numpy arrays of ndim 2:\n",
    "    * 1st dimension coresponds to the number of samples obtained from the \n",
    "      distribution of each model (N=512 in the case of the competition's leaderboard) \n",
    "    * 2nd dimension corresponds to the number of samples in the forget set (S).\n",
    "    \"\"\"\n",
    "    \n",
    "    # N = number of model samples\n",
    "    # S = number of forget samples\n",
    "    N, S = outputs_U.shape\n",
    "    \n",
    "    assert outputs_U.shape == outputs_R.shape, \\\n",
    "        \"unlearn and retrain outputs need to be of the same shape\"\n",
    "    \n",
    "    epsilons = []\n",
    "    pbar = tqdm(range(S))\n",
    "    for sample_id in pbar:\n",
    "        pbar.set_description(\"Computing F...\")\n",
    "        \n",
    "        sample_fprs, sample_fnrs = [], []\n",
    "        \n",
    "        for attack in attacks: \n",
    "            uls = outputs_U[:, sample_id]\n",
    "            rls = outputs_R[:, sample_id]\n",
    "            \n",
    "            fpr, fnr = attack(uls, rls)\n",
    "            \n",
    "            if isinstance(fpr, list):\n",
    "                sample_fprs.extend(fpr)\n",
    "                sample_fnrs.extend(fnr)\n",
    "            else:\n",
    "                sample_fprs.append(fpr)\n",
    "                sample_fnrs.append(fnr)\n",
    "        \n",
    "        sample_epsilon = compute_epsilon_s(sample_fprs, sample_fnrs, delta=delta)\n",
    "        epsilons.append(sample_epsilon)\n",
    "        \n",
    "    return F(np.array(epsilons))"
   ]
  },
  {
   "cell_type": "code",
   "execution_count": 176,
   "metadata": {},
   "outputs": [],
   "source": [
    "def unlearn_method_1(original_model, net, subset_ratio, \n",
    "                     epochs_train_dumb, epochs_unlearn, lr_dumb, lr_unlearn, \n",
    "                     class_weights_dumb,\n",
    "                     optim_dumb, optim_unlearn):\n",
    "    unlearning_data_dl, retrain_data_dl = get_dataset(batch_size=batch_size, subset_ratio=subset_ratio)\n",
    "    # retrain from scratch with remaining_data to obtain a dumb_teacher\n",
    "    dumb_teacher = retrain_from_scratch(retrain_data_dl=retrain_data_dl, \n",
    "                                        epochs=epochs_train_dumb, class_weights=class_weights_dumb, learning_rate=lr_dumb,\n",
    "                                        optim=optim_dumb)\n",
    "    \n",
    "    net.load_state_dict(torch.load(\"Original_Model.pt\"))\n",
    "    student_model = unlearning_func(student_model=net, smart_teacher=original_model, dumb_teacher=dumb_teacher,\n",
    "                                    unlearning_data_dl=unlearning_data_dl,\n",
    "                                    epochs=epochs_unlearn, learning_rate=lr_unlearn, KL_temperature=1,\n",
    "                                    optim=optim_unlearn, \n",
    "                                    DEVICE=device)\n",
    "    return student_model"
   ]
  },
  {
   "cell_type": "code",
   "execution_count": 178,
   "metadata": {},
   "outputs": [],
   "source": [
    "def score_unlearning_algorithm(\n",
    "        retain_loader, forget_loader, test_loader,\n",
    "        original_model, gold_model,\n",
    "        n: int = 10,\n",
    "        delta: float = 0.01,\n",
    "        f: Callable = cross_entropy_f,\n",
    "        attacks: list[Callable] = [best_threshold_attack, logistic_regression_attack],\n",
    "        epochs_train_dumb = 1, epochs_unlearn = 1,\n",
    "        lr_dumb = 1e-3, lr_unlearn = 1e-4,\n",
    "        subset_ratio = 0.3,\n",
    "        class_weights_dumb = None,\n",
    "        optim_dumb='adam', optim_unlearn='adam'\n",
    "        ) -> dict:\n",
    "    \n",
    "    # n=512 in the case of unlearn and n=1 in the\n",
    "    # case of retrain, since we are only provided with one retrained model here\n",
    "\n",
    "    outputs_U = []\n",
    "    RAU, TAU = [], []\n",
    "    # forget_accuracy = []\n",
    "    net = ResNet18(num_classes = 10, pretrained=False)\n",
    "    net.to(device)\n",
    "\n",
    "    pbar = tqdm(range(n))\n",
    "    for _ in pbar:\n",
    "        # unlearned model\n",
    "        pbar.set_description(f\"Unlearning...\")\n",
    "        \n",
    "        student_model = unlearn_method_1(original_model, net, subset_ratio, epochs_train_dumb, epochs_unlearn, \n",
    "                                         lr_dumb, lr_unlearn, class_weights_dumb, optim_dumb=optim_dumb, optim_unlearn=optim_unlearn)\n",
    "        # student_model = ResNet18(num_classes = 10, pretrained = False).to(device)\n",
    "        # student_model.load_state_dict(torch.load('Gold_Model.pt'))\n",
    "        # student_model.eval()\n",
    "\n",
    "        outputs_Ui = compute_outputs(student_model, forget_loader)\n",
    "        outputs_U.append(f(outputs_Ui))                             # forget quality\n",
    "\n",
    "        RAU.append(accuracy(student_model, retain_loader))          # RAU\n",
    "        TAU.append(accuracy(student_model, test_loader))            # TAU\n",
    "\n",
    "    outputs_U = np.array(outputs_U) # (n, len(forget_loader.dataset))\n",
    "\n",
    "    assert outputs_U.shape == (n, len(forget_loader.dataset)),\\\n",
    "        \"Wrong shape for outputs_U. Should be (num_model_samples, num_forget_datapoints).\"\n",
    "\n",
    "    RAU = np.mean(RAU)\n",
    "    TAU = np.mean(TAU)\n",
    "    RAR = accuracy(gold_model, retain_loader)\n",
    "    TAR = accuracy(gold_model, test_loader)\n",
    "\n",
    "    RA_ratio = RAU / RAR\n",
    "    TA_ratio = TAU / TAR\n",
    "    print('RA_ratio:', RA_ratio, '. TA_ratio:', TA_ratio)\n",
    "    \n",
    "    scale = np.std(outputs_U) / 100.\n",
    "    print('Scale:', scale)\n",
    "    outputs_Ri = compute_outputs(gold_model, forget_loader) #(len(forget_loader.dataset), 10) \n",
    "    outputs_Ri = np.expand_dims(outputs_Ri, axis=0)\n",
    "    outputs_Ri = np.random.normal(loc=outputs_Ri, scale=scale, size=(n, *outputs_Ri.shape[-2:]))\n",
    "    \n",
    "    outputs_R = np.array([ f( oRi ) for oRi in outputs_Ri ])\n",
    "    f = forgetting_quality(outputs_U, \n",
    "                            outputs_R,\n",
    "                            attacks=attacks,\n",
    "                            delta=delta)\n",
    "\n",
    "    return {\n",
    "        \"total_score\": f * RA_ratio * TA_ratio,\n",
    "        \"forget quality\": f,\n",
    "        \"unlearn_retain_accuracy\": RAU,\n",
    "        \"unlearn_test_accuracy\": TAU, \n",
    "        \"retrain_retain_accuracy\": RAR,\n",
    "        \"retrain_test_accuracy\": TAR, \n",
    "    }"
   ]
  },
  {
   "cell_type": "code",
   "execution_count": 20,
   "metadata": {},
   "outputs": [],
   "source": [
    "device = 'cuda'\n",
    "\n",
    "original_model = ResNet18(num_classes = 10, pretrained = False).to(device)\n",
    "original_model.load_state_dict(torch.load('Original_Model.pt'))\n",
    "original_model = original_model.eval()\n",
    "\n",
    "gold_model = ResNet18(num_classes = 10, pretrained = False).to(device)\n",
    "gold_model.load_state_dict(torch.load('Gold_Model.pt'))\n",
    "gold_model = gold_model.eval()"
   ]
  },
  {
   "cell_type": "code",
   "execution_count": 21,
   "metadata": {},
   "outputs": [
    {
     "name": "stdout",
     "output_type": "stream",
     "text": [
      "{'Loss': 0.02024286612868309, 'Acc': 99.4140625} \n",
      " {'Loss': 0.03589991107583046, 'Acc': 99.31837463378906} \n",
      " {'Loss': 0.6800447702407837, 'Acc': 80.17578125}\n",
      "{'Loss': 0.5820142030715942, 'Acc': 83.23316955566406} \n",
      " {'Loss': 0.032113634049892426, 'Acc': 99.45170593261719} \n",
      " {'Loss': 0.6759098768234253, 'Acc': 79.248046875}\n"
     ]
    }
   ],
   "source": [
    "print(evaluate(original_model, forget_train_dl, device='cuda'), '\\n', \n",
    "      evaluate(original_model, retain_train_dl, device='cuda'), '\\n',\n",
    "      evaluate(original_model, test_set_dl, device='cuda'))\n",
    "print(evaluate(gold_model, forget_train_dl, device='cuda'), '\\n', \n",
    "      evaluate(gold_model, retain_train_dl, device='cuda'), '\\n',\n",
    "      evaluate(gold_model, test_set_dl, device='cuda'))"
   ]
  },
  {
   "cell_type": "code",
   "execution_count": null,
   "metadata": {},
   "outputs": [],
   "source": [
    "score_unlearning_algorithm(retain_loader=retain_train_dl,\n",
    "                            forget_loader=forget_train_dl,\n",
    "                            test_loader=test_set_dl,\n",
    "                            original_model=original_model,\n",
    "                            gold_model=gold_model,\n",
    "                            n=16,\n",
    "                            delta=0.01,\n",
    "                            f = cross_entropy_f,\n",
    "                            attacks = [best_threshold_attack, logistic_regression_attack],\n",
    "                            epochs_train_dumb = 3, \n",
    "                            epochs_unlearn = 1,\n",
    "                            lr_dumb = 1e-2,\n",
    "                            lr_unlearn = 1e-3,\n",
    "                            subset_ratio = 0.3,\n",
    "                            class_weights_dumb=class_weights_sample,\n",
    "                            optim_dumb='adam', optim_unlearn='SGD'\n",
    "                           )"
   ]
  },
  {
   "cell_type": "code",
   "execution_count": 39,
   "metadata": {},
   "outputs": [],
   "source": [
    "net = ResNet18(num_classes = 10, pretrained=False)\n",
    "net.to(device)\n",
    "student_model = unlearn_method_1(original_model, net, subset_ratio=0.2, epochs_train_dumb=3, epochs_unlearn=1, \n",
    "                                         lr_dumb=1e-3, lr_unlearn=1e-4, class_weights_dumb=class_weights_sample)"
   ]
  },
  {
   "cell_type": "code",
   "execution_count": 44,
   "metadata": {},
   "outputs": [],
   "source": [
    "student_logits = compute_outputs(student_model, forget_train_dl)"
   ]
  },
  {
   "cell_type": "code",
   "execution_count": 60,
   "metadata": {},
   "outputs": [],
   "source": [
    "oracle_logits = compute_outputs(gold_model, forget_train_dl)\n",
    "original_logits = compute_outputs(original_model, forget_train_dl)"
   ]
  },
  {
   "cell_type": "code",
   "execution_count": 93,
   "metadata": {},
   "outputs": [],
   "source": [
    "import matplotlib.pyplot as plt\n",
    "import pandas as pd\n",
    "import seaborn as sns"
   ]
  },
  {
   "cell_type": "code",
   "execution_count": 141,
   "metadata": {},
   "outputs": [
    {
     "data": {
      "image/png": "[encoded data removed]",
      "text/plain": [
       "<Figure size 1600x400 with 1 Axes>"
      ]
     },
     "metadata": {},
     "output_type": "display_data"
    }
   ],
   "source": [
    "plt.figure(figsize=(16, 4))\n",
    "plt.plot(original_logits.flatten()[:10], marker='o', label='original logits', c='C0')\n",
    "plt.plot(student_logits.flatten()[:10], marker='o', label='student logits', c='r')\n",
    "plt.plot(oracle_logits.flatten()[:10], marker='o', label='oracle logits', c='y')\n",
    "plt.legend(); plt.show()"
   ]
  },
  {
   "cell_type": "code",
   "execution_count": 120,
   "metadata": {},
   "outputs": [
    {
     "data": {
      "text/html": [
       "<div>\n",
       "<style scoped>\n",
       "    .dataframe tbody tr th:only-of-type {\n",
       "        vertical-align: middle;\n",
       "    }\n",
       "\n",
       "    .dataframe tbody tr th {\n",
       "        vertical-align: top;\n",
       "    }\n",
       "\n",
       "    .dataframe thead th {\n",
       "        text-align: right;\n",
       "    }\n",
       "</style>\n",
       "<table border=\"1\" class=\"dataframe\">\n",
       "  <thead>\n",
       "    <tr style=\"text-align: right;\">\n",
       "      <th></th>\n",
       "      <th>value</th>\n",
       "      <th>type</th>\n",
       "      <th>classes</th>\n",
       "    </tr>\n",
       "  </thead>\n",
       "  <tbody>\n",
       "    <tr>\n",
       "      <th>0</th>\n",
       "      <td>-2.615278</td>\n",
       "      <td>original logits</td>\n",
       "      <td>0</td>\n",
       "    </tr>\n",
       "    <tr>\n",
       "      <th>1</th>\n",
       "      <td>-1.844071</td>\n",
       "      <td>original logits</td>\n",
       "      <td>0</td>\n",
       "    </tr>\n",
       "    <tr>\n",
       "      <th>2</th>\n",
       "      <td>-1.768499</td>\n",
       "      <td>original logits</td>\n",
       "      <td>0</td>\n",
       "    </tr>\n",
       "    <tr>\n",
       "      <th>3</th>\n",
       "      <td>-2.965130</td>\n",
       "      <td>original logits</td>\n",
       "      <td>0</td>\n",
       "    </tr>\n",
       "    <tr>\n",
       "      <th>4</th>\n",
       "      <td>-1.857451</td>\n",
       "      <td>original logits</td>\n",
       "      <td>0</td>\n",
       "    </tr>\n",
       "    <tr>\n",
       "      <th>...</th>\n",
       "      <td>...</td>\n",
       "      <td>...</td>\n",
       "      <td>...</td>\n",
       "    </tr>\n",
       "    <tr>\n",
       "      <th>14995</th>\n",
       "      <td>-0.927618</td>\n",
       "      <td>oracle logits</td>\n",
       "      <td>9</td>\n",
       "    </tr>\n",
       "    <tr>\n",
       "      <th>14996</th>\n",
       "      <td>-0.549339</td>\n",
       "      <td>oracle logits</td>\n",
       "      <td>9</td>\n",
       "    </tr>\n",
       "    <tr>\n",
       "      <th>14997</th>\n",
       "      <td>-0.815304</td>\n",
       "      <td>oracle logits</td>\n",
       "      <td>9</td>\n",
       "    </tr>\n",
       "    <tr>\n",
       "      <th>14998</th>\n",
       "      <td>-3.375925</td>\n",
       "      <td>oracle logits</td>\n",
       "      <td>9</td>\n",
       "    </tr>\n",
       "    <tr>\n",
       "      <th>14999</th>\n",
       "      <td>-0.913684</td>\n",
       "      <td>oracle logits</td>\n",
       "      <td>9</td>\n",
       "    </tr>\n",
       "  </tbody>\n",
       "</table>\n",
       "<p>15000 rows × 3 columns</p>\n",
       "</div>"
      ],
      "text/plain": [
       "          value             type classes\n",
       "0     -2.615278  original logits       0\n",
       "1     -1.844071  original logits       0\n",
       "2     -1.768499  original logits       0\n",
       "3     -2.965130  original logits       0\n",
       "4     -1.857451  original logits       0\n",
       "...         ...              ...     ...\n",
       "14995 -0.927618    oracle logits       9\n",
       "14996 -0.549339    oracle logits       9\n",
       "14997 -0.815304    oracle logits       9\n",
       "14998 -3.375925    oracle logits       9\n",
       "14999 -0.913684    oracle logits       9\n",
       "\n",
       "[15000 rows x 3 columns]"
      ]
     },
     "execution_count": 120,
     "metadata": {},
     "output_type": "execute_result"
    }
   ],
   "source": [
    "student_df = pd.DataFrame(student_logits)\n",
    "original_df = pd.DataFrame(original_logits)\n",
    "oracle_df = pd.DataFrame(oracle_logits)\n",
    "student_df['type'] = 'student logits'\n",
    "oracle_df['type'] = 'oracle logits'\n",
    "original_df['type'] = 'original logits'\n",
    "all_df = pd.concat([original_df, student_df, oracle_df], axis=0, ignore_index=True)\n",
    "full_df = pd.DataFrame([])\n",
    "for i in range(10):\n",
    "    temp = all_df[[i, 'type']]\n",
    "    temp.columns = ['value', 'type']\n",
    "    temp['classes'] = f'{i}'\n",
    "    full_df = pd.concat([full_df, temp], axis=0, ignore_index=True)\n",
    "    \n",
    "full_df"
   ]
  },
  {
   "cell_type": "code",
   "execution_count": 140,
   "metadata": {},
   "outputs": [
    {
     "data": {
      "image/png": "[encoded data removed]",
      "text/plain": [
       "<Figure size 1600x500 with 1 Axes>"
      ]
     },
     "metadata": {},
     "output_type": "display_data"
    }
   ],
   "source": [
    "plt.figure(figsize=(16, 5))\n",
    "sns.boxplot(data=full_df, x='classes', y='value', hue='type', palette=['#2596be', '#be2596', '#bea925'])\n",
    "# plt.tight_layout()\n",
    "plt.show()"
   ]
  },
  {
   "cell_type": "code",
   "execution_count": 142,
   "metadata": {},
   "outputs": [
    {
     "data": {
      "text/plain": [
       "[2.0, 1.0, 2.0, 2.0, 1.0, 5.0, 2.0, 1.0, 2.0, 2.0]"
      ]
     },
     "execution_count": 142,
     "metadata": {},
     "output_type": "execute_result"
    }
   ],
   "source": [
    "class_weights"
   ]
  }
 ],
 "metadata": {
  "kernelspec": {
   "display_name": "mu",
   "language": "python",
   "name": "python3"
  },
  "language_info": {
   "codemirror_mode": {
    "name": "ipython",
    "version": 3
   },
   "file_extension": ".py",
   "mimetype": "text/x-python",
   "name": "python",
   "nbconvert_exporter": "python",
   "pygments_lexer": "ipython3",
   "version": "3.11.5"
  }
 },
 "nbformat": 4,
 "nbformat_minor": 5
}
